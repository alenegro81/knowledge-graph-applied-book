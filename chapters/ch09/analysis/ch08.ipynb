{
 "cells": [
  {
   "cell_type": "code",
   "execution_count": null,
   "metadata": {},
   "outputs": [],
   "source": [
    "import os\n",
    "import sys\n",
    "import pandas as pd\n",
    "pd.set_option('display.max_colwidth', None)\n",
    "module_path = os.path.abspath(os.path.join('../../..'))\n",
    "if module_path not in sys.path:\n",
    "    sys.path.append(module_path)\n",
    "\n",
    "from util.graphdb_base import GraphDBBase"
   ]
  },
  {
   "cell_type": "code",
   "execution_count": null,
   "metadata": {},
   "outputs": [],
   "source": [
    "gd = GraphDBBase()\n",
    "gd._database = \"ned\"\n",
    "query = \"MATCH (n) RETURN n LIMIT 10\"\n",
    "with gd._driver.session(database=gd._database) as session:\n",
    "    r = session.run(query)\n",
    "    if len(r.data()) == 0:\n",
    "        raise RuntimeError(\"No data in the database\")"
   ]
  },
  {
   "cell_type": "code",
   "execution_count": null,
   "metadata": {},
   "outputs": [],
   "source": [
    "def show_result_in_df(query):\n",
    "    with gd._driver.session(database=gd._database) as session:\n",
    "        r = session.run(query)\n",
    "        return pd.DataFrame.from_dict(r.data())"
   ]
  },
  {
   "cell_type": "code",
   "execution_count": null,
   "metadata": {},
   "outputs": [],
   "source": [
    "query_9_24 = \"\"\"\n",
    "CALL db.index.fulltext.queryNodes(\"PageText\", \"breakbone fever\")\n",
    "YIELD node, score\n",
    "WITH node as p, score as score\n",
    "MATCH (f:File)-[:CONTAINS_PAGE]->(p)\n",
    "RETURN f.id as `File ID`, p.page_idx as `Page index`, score as Score\n",
    "LIMIT 5\n",
    "\"\"\"\n",
    "res_9_24 = show_result_in_df(query_9_24)\n",
    "res_9_24"
   ]
  },
  {
   "cell_type": "code",
   "execution_count": null,
   "metadata": {},
   "outputs": [],
   "source": [
    "query_9_25 = \"\"\"\n",
    "MATCH path=(f:File)-[:CONTAINS_PAGE]->(p)-[r:MENTIONS_MENTION]->(m)-[:DISAMBIGUATED_TO]->(e)\n",
    "WHERE \"breakbone fever\" in [x in e.aliases | toLower(x)] \n",
    "UNWIND range(0, size(r.start_chars)-1) as mention \n",
    "WITH f, p, e, m, r, mention, collect(p) as pages_list\n",
    "RETURN DISTINCT f.id as `File ID`, p.page_idx as `Page index`, apoc.text.join(collect(substring (p.text, apoc.coll.max([r.start_chars[mention] - 100, 0]), (r.end_chars[mention] - r.start_chars[mention] + 200) ))[0..3], '\\n\\n') as `Mention contexts`, size(collect(m.name)) as `Number of mentions`\n",
    "ORDER BY `Number of mentions` DESC\n",
    "LIMIT 5\n",
    "\"\"\"\n",
    "res_9_25 = show_result_in_df(query_9_25)\n",
    "res_9_25"
   ]
  },
  {
   "cell_type": "code",
   "execution_count": null,
   "metadata": {},
   "outputs": [],
   "source": [
    "query_9_26 = \"\"\"\n",
    "MATCH (m1:MedicalEntity)-[:IS_SNOMED_ENTITY]->(s1:SnomedEntity)<-[r1:SNOMED_RELATION]-(s2:SnomedEntity)<-[:IS_SNOMED_ENTITY]-(e:MedicalEntity)\n",
    "WHERE \"islets of Langerhans\" in m1.aliases AND r1.type = \"FINDING_SITE\"\n",
    "WITH e\n",
    "\n",
    "MATCH path=(f:File)-[:CONTAINS_PAGE]->(p)-[r:MENTIONS_MENTION]->(m)-[:DISAMBIGUATED_TO]->(e)\n",
    "UNWIND range(0, size(r.start_chars)-1) as mention \n",
    "WITH f, p, r, e, mention\n",
    "RETURN DISTINCT f.id as `File ID`,\n",
    "p.page_idx as `Page index`,\n",
    "collect(distinct e.name) as `Mentioned entities`,\n",
    "apoc.text.join(collect(substring (p.text, apoc.coll.max([r.start_chars[mention] - 100, 0]), (r.end_chars[mention] - r.start_chars[mention] + 200) ))[0..3], '\\n\\n') as `Mention contexts`\n",
    "ORDER BY size(`Mentioned entities`) DESC\n",
    "LIMIT 5\n",
    "\"\"\"\n",
    "res_9_26 = show_result_in_df(query_9_26)\n",
    "res_9_26"
   ]
  },
  {
   "cell_type": "code",
   "execution_count": null,
   "metadata": {},
   "outputs": [],
   "source": [
    "query_9_27 = \"\"\"\n",
    "MATCH (m1:MedicalEntity)-[:IS_SNOMED_ENTITY]->(s1:SnomedEntity)-[r1:SNOMED_RELATION*3..3]-(s2:SnomedEntity)<-[:IS_SNOMED_ENTITY]-(e:MedicalEntity)\n",
    "WHERE m1.name = \"Zika Virus\" AND all(x IN r1 WHERE x.type = \"CAUSATIVE_AGENT\")\n",
    "WITH DISTINCT e\n",
    "\n",
    "MATCH path=(f:File)-[:CONTAINS_PAGE]->(p)-[r:MENTIONS_MENTION]->(m)-[:DISAMBIGUATED_TO]->(e)\n",
    "WITH f, e, collect(p.page_idx) as pages_list\n",
    "RETURN DISTINCT f.id as `File ID`, pages_list, collect(distinct e.name) as `Mentioned entity`\n",
    "ORDER BY size(`Mentioned entity`) DESC\n",
    "LIMIT 5\n",
    "\"\"\"\n",
    "res_9_27 = show_result_in_df(query_9_27)\n",
    "res_9_27"
   ]
  },
  {
   "cell_type": "code",
   "execution_count": null,
   "metadata": {},
   "outputs": [],
   "source": [
    "query_9_31 = \"\"\"\n",
    "MATCH (m1:MedicalEntity)-[r:COOCCURR]-(m2:MedicalEntity)\n",
    "WHERE m1.id= \"C0318793\"\n",
    "RETURN m2.type as `Entity Type`, count(m2.type) as `Number of co-occurrences` \n",
    "ORDER BY count(m2.type) DESC\n",
    "LIMIT 5\n",
    "\"\"\"\n",
    "res_9_31 = show_result_in_df(query_9_31)\n",
    "res_9_31"
   ]
  },
  {
   "cell_type": "code",
   "execution_count": null,
   "metadata": {},
   "outputs": [],
   "source": [
    "query_9_32 = \"\"\"\n",
    "MATCH (n1:MedicalEntity)-[r:COOCCURR]-(n2:MedicalEntity)\n",
    "WHERE n1.id= \"C0318793\" and n2.type = \"Disease or Syndrome\" and n2.id <> \"C0009450\"\n",
    "WITH n1, r, n2\n",
    "ORDER BY r.count DESC\n",
    "\n",
    "MATCH (f:File)-[:CONTAINS_PAGE]->(p:Page)-[r1:MENTIONS_MENTION]->(m1)-[:DISAMBIGUATED_TO]->(n1),\n",
    "(p)-[r2:MENTIONS_MENTION]->(m2)-[:DISAMBIGUATED_TO]->(n2)\n",
    "WHERE r1.sentence_index = r2.sentence_index\n",
    "WITH f, p, r1, r2, n2\n",
    "\n",
    "RETURN DISTINCT\n",
    "f.id as `File ID`,\n",
    "p.page_idx as `Page index`,\n",
    "n2.id as `Co-occurring entity id`,\n",
    "n2.name as `Co-occurring entity name`,\n",
    "CASE\n",
    "WHEN r1.end_chars[0] > r2.start_chars[0]\n",
    "THEN substring(p.text, r2.start_chars[0], r1.end_chars[0] - r2.start_chars[0])\n",
    "ELSE substring(p.text, r1.start_chars[0], r2.end_chars[0] - r1.start_chars[0])\n",
    "END as `Mentions context`\n",
    "\"\"\"\n",
    "res_9_32 = show_result_in_df(query_9_32)\n",
    "res_9_32"
   ]
  },
  {
   "cell_type": "code",
   "execution_count": null,
   "metadata": {},
   "outputs": [],
   "source": [
    "query_9_33 = \"\"\"\n",
    "MATCH (s1), (s2)\n",
    "WHERE s1.id=\"3928002\" AND s2.id=\"50471002\"\n",
    "WITH s1, s2, allShortestPaths((s1)-[:SNOMED_RELATION*1..8]-(s2)) AS paths\n",
    "UNWIND paths AS path\n",
    "WITH relationships(path) AS path_edges,\n",
    "nodes(path) as path_nodes\n",
    "WITH [n IN path_nodes | n.name] AS node_names,\n",
    "[r IN path_edges | r.type] AS rel_types,\n",
    "[n IN path_edges | startnode(n).name] AS rel_starts\n",
    "WITH [i in range(0, size(node_names)-1) | CASE\n",
    "WHEN i = size(node_names)-1\n",
    "THEN '(' + node_names[size(node_names)-1] + ')'\n",
    "WHEN node_names[i] = rel_starts[i]\n",
    "THEN '(' + node_names[i] + ')' + '-[:' + rel_types[i] + ']->'\n",
    "ELSE '(' + node_names[i] + ')' + '<-[:' + rel_types[i] + ']-' END] as string_paths\n",
    "RETURN DISTINCT apoc.text.join(string_paths, '') AS `Extracted paths`\n",
    "\"\"\"\n",
    "res_9_33 = show_result_in_df(query_9_33)\n",
    "res_9_33"
   ]
  },
  {
   "cell_type": "code",
   "execution_count": null,
   "metadata": {},
   "outputs": [],
   "source": [
    "query_9_36 = \"\"\"\n",
    "MATCH (d:Disease)<-[:IS_DISEASE_ENTITY]-(n1:MedicalEntity)-[r:COOCCURR]-(n2:MedicalEntity)-[:IS_HPO_ENTITY]->(h:Hpo)\n",
    "WHERE EXISTS((d)-[:HAS_PHENOTYPIC_FEATURE]->(h)) and n2.id = \"C0004114\"\n",
    "WITH n1, n2, d, h\n",
    "\n",
    "MATCH (f:File)-[:CONTAINS_PAGE]->(p:Page)-[r1:MENTIONS_MENTION]->(m1)-[:DISAMBIGUATED_TO]->(n1),\n",
    "(p)-[r2:MENTIONS_MENTION]->(m2)-[:DISAMBIGUATED_TO]->(n2)\n",
    "WHERE r1.sentence_index = r2.sentence_index\n",
    "WITH f, p, r1, r2, n1, n2, d, h\n",
    "\n",
    "RETURN DISTINCT\n",
    "f.id as `File name`,\n",
    "p.page_idx as `Page index`,\n",
    "d.label as `Disease name`,\n",
    "CASE\n",
    "WHEN r1.end_chars[0] > r2.start_chars[0]\n",
    "THEN substring(p.text, r2.start_chars[0], r1.end_chars[0] - r2.start_chars[0])\n",
    "ELSE substring(p.text, r1.start_chars[0], r2.end_chars[0] - r1.start_chars[0])\n",
    "END as `Mentions context`\n",
    "\"\"\"\n",
    "res_9_36 = show_result_in_df(query_9_36)\n",
    "res_9_36"
   ]
  },
  {
   "cell_type": "code",
   "execution_count": null,
   "metadata": {},
   "outputs": [],
   "source": [
    "query_9_37 = \"\"\"\n",
    "MATCH (n1:MedicalEntity)-[r:COOCCURR]-(n2:MedicalEntity)\n",
    "WHERE n1.id= \"C0318793\" and n2.type = \"Disease or Syndrome\"\n",
    "RETURN n2.name, r.count\n",
    "ORDER BY r.count DESC\n",
    "LIMIT 5\n",
    "\"\"\"\n",
    "res_9_37 = show_result_in_df(query_9_37)\n",
    "res_9_37"
   ]
  },
  {
   "cell_type": "code",
   "execution_count": null,
   "metadata": {},
   "outputs": [],
   "source": [
    "query_9_39 = \"\"\"\n",
    "CALL gds.graph.project(\n",
    "  'snomedGraph',\n",
    "  'SnomedEntity',\n",
    "  'SNOMED_RELATION'\n",
    ")\n",
    "YIELD\n",
    "  graphName AS graph,\n",
    "  relationshipProjection AS knowsProjection,\n",
    "  nodeCount AS nodes,\n",
    "  relationshipCount AS rels\n",
    "\"\"\"\n",
    "res_9_39 = show_result_in_df(query_9_39)\n",
    "res_9_39"
   ]
  },
  {
   "cell_type": "code",
   "execution_count": null,
   "metadata": {},
   "outputs": [],
   "source": [
    "query_9_40 = \"\"\"\n",
    "CALL gds.degree.stream('snomedGraph')\n",
    "YIELD nodeId, score\n",
    "WITH gds.util.asNode(nodeId).name AS name, score AS degree\n",
    "ORDER BY degree DESC\n",
    "LIMIT 350\n",
    "WITH collect(name) as hub_nodes\n",
    "MATCH (s1), (s2)\n",
    "WHERE s1.id=\"3928002\" AND s2.id=\"40956001\"\n",
    "WITH s1, s2, allShortestPaths((s1)-[:SNOMED_RELATION*1..8]-(s2)) AS paths, hub_nodes\n",
    "UNWIND paths AS path\n",
    "WITH relationships(path) AS path_edges, nodes(path) as path_nodes, hub_nodes\n",
    "WITH [n IN path_nodes | n.name] AS node_names,\n",
    "     [r IN path_edges | r.type] AS rel_types,\n",
    "     [n IN path_edges | startnode(n).name] AS rel_starts,\n",
    "     hub_nodes\n",
    "WHERE not any(x IN node_names WHERE x IN hub_nodes)\n",
    "WITH [i in range(0, size(node_names)-1) | CASE\n",
    "WHEN i = size(node_names)-1\n",
    "THEN \"(\" + node_names[size(node_names)-1] + \")\"\n",
    "WHEN node_names[i] = rel_starts[i] \n",
    "THEN \"(\" + node_names[i] + \")\" + '-[:' + rel_types[i] + ']->'\n",
    "ELSE \"(\" + node_names[i] + \")\" + '<-[:' + rel_types[i] + ']-' END] as string_paths\n",
    "RETURN DISTINCT apoc.text.join(string_paths, '') AS `Extracted paths`\n",
    "\"\"\"\n",
    "res_9_40 = show_result_in_df(query_9_40)\n",
    "res_9_40"
   ]
  }
 ],
 "metadata": {
  "kernelspec": {
   "display_name": "venv",
   "language": "python",
   "name": "python3"
  },
  "language_info": {
   "codemirror_mode": {
    "name": "ipython",
    "version": 3
   },
   "file_extension": ".py",
   "mimetype": "text/x-python",
   "name": "python",
   "nbconvert_exporter": "python",
   "pygments_lexer": "ipython3",
   "version": "3.10.0"
  }
 },
 "nbformat": 4,
 "nbformat_minor": 2
}
